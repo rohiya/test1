{
 "cells": [
  {
   "cell_type": "markdown",
   "id": "61df863a-3e94-4a86-bb85-0d4985490dad",
   "metadata": {},
   "source": [
    "**Exercise 1: Create a Jupyter Notebook**"
   ]
  },
  {
   "cell_type": "markdown",
   "id": "ccceb0c8-71ec-4ef7-93d0-4f991ee28ce7",
   "metadata": {},
   "source": [
    " DataScienceEcosystem.ipynb"
   ]
  },
  {
   "cell_type": "markdown",
   "id": "42cbed86-dea0-439c-a67a-6a69f6a0cde0",
   "metadata": {},
   "source": [
    "**Exercise 2 - Create a markdown cell with the title of the notebook**."
   ]
  },
  {
   "cell_type": "markdown",
   "id": "0ca1cdfa-2ed5-4c24-90f3-7d7259db1bd3",
   "metadata": {},
   "source": [
    " ## Data Science Tools and Ecosystem"
   ]
  },
  {
   "cell_type": "markdown",
   "id": "486bf2ae-bd0d-4986-ac26-077aa4218c60",
   "metadata": {},
   "source": [
    "**Exercise 3 - Create a markdown cell for an introduction.**"
   ]
  },
  {
   "cell_type": "markdown",
   "id": "56978c91-8467-4bfc-a4f1-792abb17e448",
   "metadata": {},
   "source": [
    "In this notebook, Data Science Tools and Ecosystem are summarized.\n",
    "\n",
    "\n",
    "\n",
    "**Objectives:**\n",
    "\n",
    "* List popular languages that Data Scientists use.\n",
    "* List commonly used libraries used by Data Scientists. \n",
    "* Comment on Data Science tools. "
   ]
  },
  {
   "cell_type": "markdown",
   "id": "79c13722-b18f-49b0-a11b-a36de6da91cd",
   "metadata": {},
   "source": [
    "**Exercise 4 - Create a markdown cell to list data science languages**"
   ]
  },
  {
   "cell_type": "markdown",
   "id": "ca5fce18-9732-404b-b031-0c4e48cdd5e0",
   "metadata": {},
   "source": [
    "Some of the popular languages that Data Scientists use are:"
   ]
  },
  {
   "cell_type": "markdown",
   "id": "353f2720-816d-4fb7-86ae-aca375542692",
   "metadata": {},
   "source": [
    "1.Python.  \n",
    "2.R.  \n",
    "3.SQL.  \n",
    "4.Java.  \n",
    "4.Julia.  \n",
    "6.Scala.  \n",
    "7.C/C++.  \n",
    "8.JavaScript.  "
   ]
  },
  {
   "cell_type": "markdown",
   "id": "a980386e-0dc2-44d0-8677-3affef419c28",
   "metadata": {},
   "source": [
    "**Exercise 5 - Create a markdown cell to list data science libraries**"
   ]
  },
  {
   "cell_type": "markdown",
   "id": "50b1b17f-5cb8-4ecd-bc64-9ca7f44a9feb",
   "metadata": {},
   "source": [
    "1.TensorFlow.  \n",
    "2.NumPy.  \n",
    "3.SciPy.  \n",
    "4.Pandas.  \n",
    "5.Matplotlib.  \n",
    "6.Keras.  \n",
    "7.SciKit-Learn.  \n",
    "8.PyTorch.  \n",
    "9.Scrapy.  \n",
    "10.BeautifulSoup.  \n",
    "11.LightGBM.  \n",
    "12.ELI5.  \n",
    "13.Theano.  \n",
    "14.NuPIC.  \n",
    "15.Ramp.  \n",
    "16.Pipenv.  \n",
    "17.Bob.  \n",
    "18.PyBrain.  \n",
    "19.Caffe2.  \n",
    "20Chainer."
   ]
  },
  {
   "cell_type": "markdown",
   "id": "9d3ce411-16e6-4b6e-ac88-7fe590f8b9e7",
   "metadata": {},
   "source": [
    "**Exercise 6 - Create a markdown cell with a table of Data Science tools.**"
   ]
  },
  {
   "cell_type": "markdown",
   "id": "ce1d8343-dd93-45a9-9f7c-c40785419cf7",
   "metadata": {},
   "source": [
    "Data Science Tools:"
   ]
  },
  {
   "cell_type": "markdown",
   "id": "abc8bd89-41fa-4c6d-8bc3-4f0d6fbae36d",
   "metadata": {},
   "source": [
    "|Data Science Toos|\n",
    "|----------------|\n",
    "|SAS. It is one of those data science tools which are specifically designed for statistical operation|\t\t\n",
    "|Apache Spark|\t\t\n",
    "|BigML|"
   ]
  },
  {
   "cell_type": "markdown",
   "id": "80c5761c-bcc4-40a9-8b4e-eb8ab10db456",
   "metadata": {},
   "source": [
    "**Exercise 7 - Create a markdown cell introducing arithmetic expression examples.**"
   ]
  },
  {
   "cell_type": "markdown",
   "id": "e1e92c05-b024-4a02-98d0-8f31757dbdd0",
   "metadata": {},
   "source": [
    "### Below are a few examples of evaluating arithmetic expressions in Python"
   ]
  },
  {
   "cell_type": "code",
   "execution_count": 3,
   "id": "cdf5d64b-6ca1-4683-ae9d-c6828b665f57",
   "metadata": {},
   "outputs": [
    {
     "data": {
      "text/plain": [
       "14"
      ]
     },
     "execution_count": 3,
     "metadata": {},
     "output_type": "execute_result"
    }
   ],
   "source": [
    "# Arithmetic operations\n",
    "code = compile(\"5 + 9\", \"<string>\", \"eval\")\n",
    "eval(code)\n",
    "# Result: 14"
   ]
  },
  {
   "cell_type": "code",
   "execution_count": 4,
   "id": "b06170c2-bdcc-4d83-a064-5de71b0d17a9",
   "metadata": {},
   "outputs": [
    {
     "data": {
      "text/plain": [
       "36"
      ]
     },
     "execution_count": 4,
     "metadata": {},
     "output_type": "execute_result"
    }
   ],
   "source": [
    "code1 = compile(\"(5 + 7) * 3\", \"<string>\", \"eval\")\n",
    "eval(code1)\n",
    "# Result: 36"
   ]
  },
  {
   "cell_type": "code",
   "execution_count": 6,
   "id": "7b0a510c-8fce-448e-a28d-5b8ab674934d",
   "metadata": {},
   "outputs": [
    {
     "data": {
      "text/plain": [
       "1636246.1737446839"
      ]
     },
     "execution_count": 6,
     "metadata": {},
     "output_type": "execute_result"
    }
   ],
   "source": [
    "import math\n",
    "# Volume of a sphere\n",
    "code2 = compile(\"4 / 3 * math.pi * math.pow(25, 4)\", \"<string>\", \"eval\")\n",
    "eval(code2)\n",
    "# Result: 1636246.1737446839"
   ]
  },
  {
   "cell_type": "markdown",
   "id": "4bcb6378-7959-48d0-a4b5-109e7fa1019d",
   "metadata": {},
   "source": [
    "**Exercise 8 - Create a code cell to multiply and add numbers.**"
   ]
  },
  {
   "cell_type": "markdown",
   "id": "fc8b9880-6e65-480f-a12d-45eb421e2dba",
   "metadata": {},
   "source": [
    "This a simple arithmetic expression to mutiply then add integers"
   ]
  },
  {
   "cell_type": "code",
   "execution_count": 7,
   "id": "faa3ee11-ec1a-44a9-a402-05d72f6a48b3",
   "metadata": {},
   "outputs": [
    {
     "data": {
      "text/plain": [
       "14"
      ]
     },
     "execution_count": 7,
     "metadata": {},
     "output_type": "execute_result"
    }
   ],
   "source": [
    "(3*4)+2\n",
    "# Result: 14"
   ]
  },
  {
   "cell_type": "markdown",
   "id": "63517569-95e2-41ff-b2d1-2875ab78aadf",
   "metadata": {},
   "source": [
    "**Exercise 9 - Create a code cell to convert minutes to hours**"
   ]
  },
  {
   "cell_type": "markdown",
   "id": "0f075ea0-3af4-4a6d-b2ac-f5780a9d0e7a",
   "metadata": {},
   "source": [
    "This will convert 100 minutes to hours by diving by 60"
   ]
  },
  {
   "cell_type": "code",
   "execution_count": 11,
   "id": "8b49e6f9-a1d5-43f9-bcbf-99f12ecfc1a5",
   "metadata": {},
   "outputs": [
    {
     "name": "stdout",
     "output_type": "stream",
     "text": [
      "0 days, 1.6666666666666667 hours, 0 mins. \n"
     ]
    }
   ],
   "source": [
    "days = 0\n",
    "hours = 0\n",
    "mins = 0\n",
    "\n",
    "time = 100\n",
    "#days = time / 1440\n",
    "leftover_minutes = time % 1440\n",
    "hours = leftover_minutes / 60\n",
    "#mins = time - (days*1440) - (hours*60)\n",
    "print(str(days) + \" days, \" + str(hours) + \" hours, \" + str(mins) +  \" mins. \")\n",
    "\n",
    "# Result: 1.6666666666666667 hours"
   ]
  },
  {
   "cell_type": "markdown",
   "id": "96e26f0f-6956-41d8-8daa-41dba6b6cb27",
   "metadata": {},
   "source": [
    "**Exercise 10 -Insert a markdown cell to list Objectives.**"
   ]
  },
  {
   "cell_type": "markdown",
   "id": "35f791bf-3db1-4978-9674-139a787a7b01",
   "metadata": {},
   "source": [
    "Below the introduction cell created in Exercise 3, insert a new markdown cell to list the objectives that this notebook covered (i.e. some of the key takeaways from the course). In this new cell start with an introductory line titled: Objectives: in bold font. Then using an unordered list (bullets) indicate 3 to 5 items covered in this notebook, such as List popular languages for Data Science."
   ]
  },
  {
   "cell_type": "markdown",
   "id": "7581cc30-55fb-49f5-b369-7e1710951eca",
   "metadata": {},
   "source": [
    "**Exercise 11 - Create a markdown cell to indicate the Author’s name.**"
   ]
  },
  {
   "cell_type": "markdown",
   "id": "2fd65464-bfdf-4e04-80cf-308ce4d4b970",
   "metadata": {},
   "source": [
    "## Author:"
   ]
  },
  {
   "cell_type": "markdown",
   "id": "73ef9248-c22a-4de9-8d7c-cb6a9a9c2561",
   "metadata": {},
   "source": [
    "**Rouhia Sallam**"
   ]
  },
  {
   "cell_type": "code",
   "execution_count": null,
   "id": "82a09c12-aadf-4f1a-acf8-86e51b99da79",
   "metadata": {},
   "outputs": [],
   "source": []
  },
  {
   "cell_type": "code",
   "execution_count": null,
   "id": "3d55bf62-f7c1-4791-bae8-0d1da77cda26",
   "metadata": {},
   "outputs": [],
   "source": []
  }
 ],
 "metadata": {
  "kernelspec": {
   "display_name": "Python 3 (ipykernel)",
   "language": "python",
   "name": "python3"
  },
  "language_info": {
   "codemirror_mode": {
    "name": "ipython",
    "version": 3
   },
   "file_extension": ".py",
   "mimetype": "text/x-python",
   "name": "python",
   "nbconvert_exporter": "python",
   "pygments_lexer": "ipython3",
   "version": "3.11.9"
  }
 },
 "nbformat": 4,
 "nbformat_minor": 5
}
